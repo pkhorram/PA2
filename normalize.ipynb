{
 "cells": [
  {
   "cell_type": "code",
   "execution_count": 1,
   "metadata": {},
   "outputs": [],
   "source": [
    "from neuralnet import *\n",
    "from checker import *\n",
    "from func import *\n",
    "import matplotlib.pyplot as plt\n",
    "import numpy as np"
   ]
  },
  {
   "cell_type": "markdown",
   "metadata": {},
   "source": [
    "## Data Normalization and Label one hot encoding"
   ]
  },
  {
   "cell_type": "code",
   "execution_count": 2,
   "metadata": {},
   "outputs": [],
   "source": [
    "# Importing train images \n",
    "images, labels = load_data('/home/pkhorram/AAAAA', mode = 'train')\n",
    "\n",
    "# shuffling the training dataset\n",
    "N = np.random.permutation(np.arange(labels.shape[0]))\n",
    "images = images[N,:]\n",
    "labels = labels[N]\n",
    "\n",
    "# pick the first 10000 data for validation\n",
    "val_images = images[0:10000,:]\n",
    "val_labels = labels[0:10000]\n",
    "\n",
    "# normalizing the images and one_hot encoding the labels (validation set)\n",
    "val_images = normalize_data(val_images)\n",
    "val_labels = one_hot_encoding(val_labels)\n",
    "\n",
    "# leave the rest of the data for training\n",
    "train_images = images[10000:,:]\n",
    "train_labels = labels[10000:]\n",
    "\n",
    "# normalizing the images and one_hot encoding the labels (train set)\n",
    "train_images = normalize_data(train_images)\n",
    "train_labels = one_hot_encoding(train_labels)\n",
    "\n",
    "# Importing test images\n",
    "test_images, test_labels = load_data('/home/pkhorram/AAAAA', mode = 't10k')\n",
    "\n",
    "# shuffling the test dataset\n",
    "N = np.random.permutation(np.arange(test_labels.shape[0]))\n",
    "\n",
    "\n",
    "test_images = test_images[N,:]\n",
    "test_labels = test_labels[N]\n",
    "\n",
    "# normalizing the images and one_hot encoding the labels (test set)\n",
    "test_images = normalize_data(test_images)\n",
    "test_labels = one_hot_encoding(test_labels)"
   ]
  }
 ],
 "metadata": {
  "kernelspec": {
   "display_name": "Python 3",
   "language": "python",
   "name": "python3"
  },
  "language_info": {
   "codemirror_mode": {
    "name": "ipython",
    "version": 3
   },
   "file_extension": ".py",
   "mimetype": "text/x-python",
   "name": "python",
   "nbconvert_exporter": "python",
   "pygments_lexer": "ipython3",
   "version": "3.7.3"
  }
 },
 "nbformat": 4,
 "nbformat_minor": 2
}
